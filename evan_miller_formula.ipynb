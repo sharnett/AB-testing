{
 "metadata": {
  "name": "",
  "signature": "sha256:3d5a09fecb10f3897771ecdf2123aae8155d09f0389325cc47be93109ba6dc53"
 },
 "nbformat": 3,
 "nbformat_minor": 0,
 "worksheets": [
  {
   "cells": [
    {
     "cell_type": "code",
     "collapsed": false,
     "input": [
      "from scipy.special import betaln as lbeta\n",
      "from scipy.stats import beta as beta_dist, norm as norm_dist\n",
      "from numpy import log, exp"
     ],
     "language": "python",
     "metadata": {},
     "outputs": [],
     "prompt_number": 67
    },
    {
     "cell_type": "code",
     "collapsed": false,
     "input": [
      "def probability_B_beats_A_evan(\u03b1_A, \u03b2_A, \u03b1_B, \u03b2_B):\n",
      "    total = 0.0\n",
      "    for i in range(\u03b1_B):\n",
      "        total += exp(lbeta(\u03b1_A+i, \u03b2_B+\u03b2_A) - log(\u03b2_B+i) - lbeta(1+i, \u03b2_B) - lbeta(\u03b1_A, \u03b2_A))\n",
      "    return total"
     ],
     "language": "python",
     "metadata": {},
     "outputs": [],
     "prompt_number": 113
    },
    {
     "cell_type": "code",
     "collapsed": false,
     "input": [
      "def probability_B_beats_A_mc(\u03b1_A, \u03b2_A, \u03b1_B, \u03b2_B, N=1000000):\n",
      "    p_A = beta_dist.rvs(\u03b1_A, \u03b2_A, size=N)\n",
      "    p_B = beta_dist.rvs(\u03b1_B, \u03b2_B, size=N)\n",
      "    return (p_B>p_A).mean()"
     ],
     "language": "python",
     "metadata": {},
     "outputs": [],
     "prompt_number": 114
    },
    {
     "cell_type": "code",
     "collapsed": false,
     "input": [
      "def beta_mean(a, b):\n",
      "    return a/(a+b)\n",
      "def beta_var(a, b):\n",
      "    return a*b/((a+b)**2*(a+b+1))"
     ],
     "language": "python",
     "metadata": {},
     "outputs": [],
     "prompt_number": 115
    },
    {
     "cell_type": "code",
     "collapsed": false,
     "input": [
      "def probability_B_beats_A(\u03b1_A, \u03b2_A, \u03b1_B, \u03b2_B):\n",
      "    mu = beta_mean(\u03b1_A, \u03b2_A) - beta_mean(\u03b1_B, \u03b2_B)\n",
      "    sigma = (beta_var(\u03b1_A, \u03b2_A) + beta_var(\u03b1_B, \u03b2_B))**.5\n",
      "    return norm_dist.cdf(0, mu, sigma)"
     ],
     "language": "python",
     "metadata": {},
     "outputs": [],
     "prompt_number": 116
    },
    {
     "cell_type": "code",
     "collapsed": false,
     "input": [
      "\u03b1_A, \u03b2_A, \u03b1_B, \u03b2_B = 21, 200, 31, 200\n",
      "print(probability_B_beats_A_evan(\u03b1_A, \u03b2_A, \u03b1_B, \u03b2_B))\n",
      "print(probability_B_beats_A(\u03b1_A, \u03b2_A, \u03b1_B, \u03b2_B))"
     ],
     "language": "python",
     "metadata": {},
     "outputs": [
      {
       "output_type": "stream",
       "stream": "stdout",
       "text": [
        "0.906704245199\n",
        "0.905669069182\n"
       ]
      }
     ],
     "prompt_number": 121
    },
    {
     "cell_type": "code",
     "collapsed": false,
     "input": [
      "%%timeit\n",
      "probability_B_beats_A_evan(\u03b1_A, \u03b2_A, \u03b1_B, \u03b2_B)"
     ],
     "language": "python",
     "metadata": {},
     "outputs": [
      {
       "output_type": "stream",
       "stream": "stdout",
       "text": [
        "1000 loops, best of 3: 461 \u00b5s per loop\n"
       ]
      }
     ],
     "prompt_number": 122
    },
    {
     "cell_type": "code",
     "collapsed": false,
     "input": [
      "%%timeit\n",
      "probability_B_beats_A(\u03b1_A, \u03b2_A, \u03b1_B, \u03b2_B)"
     ],
     "language": "python",
     "metadata": {},
     "outputs": [
      {
       "output_type": "stream",
       "stream": "stdout",
       "text": [
        "10000 loops, best of 3: 96.9 \u00b5s per loop\n"
       ]
      }
     ],
     "prompt_number": 123
    }
   ],
   "metadata": {}
  }
 ]
}